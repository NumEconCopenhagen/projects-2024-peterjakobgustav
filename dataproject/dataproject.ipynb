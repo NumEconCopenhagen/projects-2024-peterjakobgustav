{
 "cells": [
  {
   "cell_type": "markdown",
   "metadata": {},
   "source": [
    "# Dataproject: Air Traffic Passengers"
   ]
  },
  {
   "cell_type": "markdown",
   "metadata": {},
   "source": [
    "**Important**: Before running the provided code, please ensure that the geopandas package is installed in your Python environment to avoid any errors. If it's not already installed, you can do so by opening your command line or terminal and executing the following command: **pip install geopandas**"
   ]
  },
  {
   "cell_type": "markdown",
   "metadata": {},
   "source": [
    "**Introduction:**\n",
    "\n",
    "In this project, we will explore data from **[INSERT SOURCE]** regarding the global numbers of air traffic passengers to illustrate the evolution of air travel worldwide. Utilizing Python, we will plot and visualize the true expansion of aviation, encompassing both global trends and regional, as well as country-specific developments.\n",
    "\n",
    "Additionally, the project will involve extensive data cleaning, which will also be conducted using Python.\n"
   ]
  },
  {
   "cell_type": "markdown",
   "metadata": {},
   "source": [
    "**Imports and set magics:**"
   ]
  },
  {
   "cell_type": "code",
   "execution_count": 34,
   "metadata": {},
   "outputs": [
    {
     "name": "stdout",
     "output_type": "stream",
     "text": [
      "The autoreload extension is already loaded. To reload it, use:\n",
      "  %reload_ext autoreload\n"
     ]
    }
   ],
   "source": [
    "import pandas as pd\n",
    "import numpy as np\n",
    "import matplotlib.pyplot as plt\n",
    "import ipywidgets as widgets\n",
    "#from matplotlib_venn import venn2\n",
    "\n",
    "# autoreload modules when code is run\n",
    "%load_ext autoreload\n",
    "%autoreload 2\n",
    "\n",
    "# user written modules\n",
    "import dataproject\n"
   ]
  },
  {
   "cell_type": "markdown",
   "metadata": {},
   "source": [
    "# Read and clean data"
   ]
  },
  {
   "cell_type": "markdown",
   "metadata": {},
   "source": [
    "We start by importing the data from the excel file \"airtraffic\". "
   ]
  },
  {
   "cell_type": "code",
   "execution_count": 35,
   "metadata": {},
   "outputs": [],
   "source": [
    "filename = 'airtraffic.xlsx'\n",
    "\n",
    "airt = pd.read_excel(filename)"
   ]
  },
  {
   "cell_type": "markdown",
   "metadata": {},
   "source": [
    "Then we remove irrelevant data from the file and rename the columns: "
   ]
  },
  {
   "cell_type": "code",
   "execution_count": 36,
   "metadata": {},
   "outputs": [
    {
     "name": "stdout",
     "output_type": "stream",
     "text": [
      "Columns that have been dropped: ['Country Code', 'Indicator Name', 'Indicator Code']\n"
     ]
    },
    {
     "data": {
      "text/html": [
       "<div>\n",
       "<style scoped>\n",
       "    .dataframe tbody tr th:only-of-type {\n",
       "        vertical-align: middle;\n",
       "    }\n",
       "\n",
       "    .dataframe tbody tr th {\n",
       "        vertical-align: top;\n",
       "    }\n",
       "\n",
       "    .dataframe thead th {\n",
       "        text-align: right;\n",
       "    }\n",
       "</style>\n",
       "<table border=\"1\" class=\"dataframe\">\n",
       "  <thead>\n",
       "    <tr style=\"text-align: right;\">\n",
       "      <th></th>\n",
       "      <th>Country Name</th>\n",
       "      <th>1970</th>\n",
       "      <th>1971</th>\n",
       "      <th>1972</th>\n",
       "      <th>1973</th>\n",
       "      <th>1974</th>\n",
       "      <th>1975</th>\n",
       "      <th>1976</th>\n",
       "      <th>1977</th>\n",
       "      <th>1978</th>\n",
       "      <th>...</th>\n",
       "      <th>2012</th>\n",
       "      <th>2013</th>\n",
       "      <th>2014</th>\n",
       "      <th>2015</th>\n",
       "      <th>2016</th>\n",
       "      <th>2017</th>\n",
       "      <th>2018</th>\n",
       "      <th>2019</th>\n",
       "      <th>2020</th>\n",
       "      <th>2021</th>\n",
       "    </tr>\n",
       "  </thead>\n",
       "  <tbody>\n",
       "    <tr>\n",
       "      <th>0</th>\n",
       "      <td>Aruba</td>\n",
       "      <td>NaN</td>\n",
       "      <td>NaN</td>\n",
       "      <td>NaN</td>\n",
       "      <td>NaN</td>\n",
       "      <td>NaN</td>\n",
       "      <td>NaN</td>\n",
       "      <td>NaN</td>\n",
       "      <td>NaN</td>\n",
       "      <td>NaN</td>\n",
       "      <td>...</td>\n",
       "      <td>NaN</td>\n",
       "      <td>NaN</td>\n",
       "      <td>NaN</td>\n",
       "      <td>NaN</td>\n",
       "      <td>NaN</td>\n",
       "      <td>223502.00</td>\n",
       "      <td>2.742800e+05</td>\n",
       "      <td>NaN</td>\n",
       "      <td>NaN</td>\n",
       "      <td>NaN</td>\n",
       "    </tr>\n",
       "    <tr>\n",
       "      <th>1</th>\n",
       "      <td>Africa Eastern and Southern</td>\n",
       "      <td>3418300.0</td>\n",
       "      <td>3775300.0</td>\n",
       "      <td>4074500.0</td>\n",
       "      <td>4808000.0</td>\n",
       "      <td>5126100.0</td>\n",
       "      <td>5333100.0</td>\n",
       "      <td>6040400.0</td>\n",
       "      <td>5798900.0</td>\n",
       "      <td>6195600.0</td>\n",
       "      <td>...</td>\n",
       "      <td>3.583868e+07</td>\n",
       "      <td>3.511246e+07</td>\n",
       "      <td>3.635076e+07</td>\n",
       "      <td>39154692.0</td>\n",
       "      <td>41553429.0</td>\n",
       "      <td>45423814.08</td>\n",
       "      <td>5.261396e+07</td>\n",
       "      <td>5.485142e+07</td>\n",
       "      <td>1.916604e+07</td>\n",
       "      <td>2.405759e+07</td>\n",
       "    </tr>\n",
       "    <tr>\n",
       "      <th>2</th>\n",
       "      <td>Afghanistan</td>\n",
       "      <td>84700.0</td>\n",
       "      <td>97400.0</td>\n",
       "      <td>104900.0</td>\n",
       "      <td>96600.0</td>\n",
       "      <td>96100.0</td>\n",
       "      <td>99000.0</td>\n",
       "      <td>101700.0</td>\n",
       "      <td>111200.0</td>\n",
       "      <td>100400.0</td>\n",
       "      <td>...</td>\n",
       "      <td>1.737962e+06</td>\n",
       "      <td>2.044188e+06</td>\n",
       "      <td>2.209428e+06</td>\n",
       "      <td>1929907.0</td>\n",
       "      <td>1917924.0</td>\n",
       "      <td>1647425.00</td>\n",
       "      <td>1.125367e+06</td>\n",
       "      <td>1.066747e+06</td>\n",
       "      <td>4.490410e+05</td>\n",
       "      <td>2.932130e+05</td>\n",
       "    </tr>\n",
       "    <tr>\n",
       "      <th>3</th>\n",
       "      <td>Africa Western and Central</td>\n",
       "      <td>1167000.0</td>\n",
       "      <td>1238100.0</td>\n",
       "      <td>1285700.0</td>\n",
       "      <td>1453300.0</td>\n",
       "      <td>1685700.0</td>\n",
       "      <td>1987500.0</td>\n",
       "      <td>2540000.0</td>\n",
       "      <td>2962100.0</td>\n",
       "      <td>3543900.0</td>\n",
       "      <td>...</td>\n",
       "      <td>9.570162e+06</td>\n",
       "      <td>8.677884e+06</td>\n",
       "      <td>8.030237e+06</td>\n",
       "      <td>8696300.0</td>\n",
       "      <td>8129874.0</td>\n",
       "      <td>8837017.00</td>\n",
       "      <td>1.233777e+07</td>\n",
       "      <td>1.138491e+07</td>\n",
       "      <td>5.328945e+06</td>\n",
       "      <td>7.425487e+06</td>\n",
       "    </tr>\n",
       "    <tr>\n",
       "      <th>4</th>\n",
       "      <td>Angola</td>\n",
       "      <td>NaN</td>\n",
       "      <td>NaN</td>\n",
       "      <td>NaN</td>\n",
       "      <td>NaN</td>\n",
       "      <td>NaN</td>\n",
       "      <td>NaN</td>\n",
       "      <td>155400.0</td>\n",
       "      <td>282700.0</td>\n",
       "      <td>308000.0</td>\n",
       "      <td>...</td>\n",
       "      <td>1.132424e+06</td>\n",
       "      <td>1.321872e+06</td>\n",
       "      <td>1.409952e+06</td>\n",
       "      <td>1244491.0</td>\n",
       "      <td>1482546.0</td>\n",
       "      <td>1375523.00</td>\n",
       "      <td>1.516628e+06</td>\n",
       "      <td>1.436959e+06</td>\n",
       "      <td>3.566950e+05</td>\n",
       "      <td>3.114880e+05</td>\n",
       "    </tr>\n",
       "  </tbody>\n",
       "</table>\n",
       "<p>5 rows × 53 columns</p>\n",
       "</div>"
      ],
      "text/plain": [
       "                  Country Name       1970       1971       1972       1973  \\\n",
       "0                        Aruba        NaN        NaN        NaN        NaN   \n",
       "1  Africa Eastern and Southern  3418300.0  3775300.0  4074500.0  4808000.0   \n",
       "2                  Afghanistan    84700.0    97400.0   104900.0    96600.0   \n",
       "3   Africa Western and Central  1167000.0  1238100.0  1285700.0  1453300.0   \n",
       "4                       Angola        NaN        NaN        NaN        NaN   \n",
       "\n",
       "        1974       1975       1976       1977       1978  ...          2012  \\\n",
       "0        NaN        NaN        NaN        NaN        NaN  ...           NaN   \n",
       "1  5126100.0  5333100.0  6040400.0  5798900.0  6195600.0  ...  3.583868e+07   \n",
       "2    96100.0    99000.0   101700.0   111200.0   100400.0  ...  1.737962e+06   \n",
       "3  1685700.0  1987500.0  2540000.0  2962100.0  3543900.0  ...  9.570162e+06   \n",
       "4        NaN        NaN   155400.0   282700.0   308000.0  ...  1.132424e+06   \n",
       "\n",
       "           2013          2014        2015        2016         2017  \\\n",
       "0           NaN           NaN         NaN         NaN    223502.00   \n",
       "1  3.511246e+07  3.635076e+07  39154692.0  41553429.0  45423814.08   \n",
       "2  2.044188e+06  2.209428e+06   1929907.0   1917924.0   1647425.00   \n",
       "3  8.677884e+06  8.030237e+06   8696300.0   8129874.0   8837017.00   \n",
       "4  1.321872e+06  1.409952e+06   1244491.0   1482546.0   1375523.00   \n",
       "\n",
       "           2018          2019          2020          2021  \n",
       "0  2.742800e+05           NaN           NaN           NaN  \n",
       "1  5.261396e+07  5.485142e+07  1.916604e+07  2.405759e+07  \n",
       "2  1.125367e+06  1.066747e+06  4.490410e+05  2.932130e+05  \n",
       "3  1.233777e+07  1.138491e+07  5.328945e+06  7.425487e+06  \n",
       "4  1.516628e+06  1.436959e+06  3.566950e+05  3.114880e+05  \n",
       "\n",
       "[5 rows x 53 columns]"
      ]
     },
     "execution_count": 36,
     "metadata": {},
     "output_type": "execute_result"
    }
   ],
   "source": [
    "# These columns have to go: 'Unnamed: 0' 'Unnamed: 1' 'Unnamed: 2' 'Unnamed: 3'\n",
    "drop_these = ['Country Code','Indicator Name','Indicator Code'] # use list comprehension to create list of columns\n",
    "print(f\"Columns that have been dropped: {drop_these}\")\n",
    "\n",
    "airt.drop(drop_these, axis=1, inplace=True) # axis = 1 -> columns, inplace=True -> changed, no copy made\n",
    "airt = airt.dropna(subset=airt.columns[1:], how='all') # drop rows where all columns are NaN\n",
    "\n",
    "world_index = airt[airt['Country Name'] == 'World'].index.tolist()\n",
    "\n",
    "# Adding a datapoint to the world row for the year 1972 as an average of 1971 and 1973 as the dataset lacks this value\n",
    "average_value = (airt.loc[world_index, '1971'] + airt.loc[world_index, '1973']) / 2\n",
    "airt.loc[world_index, '1972'] = average_value\n",
    "\n",
    "airt.head(5)"
   ]
  },
  {
   "cell_type": "code",
   "execution_count": 37,
   "metadata": {},
   "outputs": [
    {
     "data": {
      "text/html": [
       "<div>\n",
       "<style scoped>\n",
       "    .dataframe tbody tr th:only-of-type {\n",
       "        vertical-align: middle;\n",
       "    }\n",
       "\n",
       "    .dataframe tbody tr th {\n",
       "        vertical-align: top;\n",
       "    }\n",
       "\n",
       "    .dataframe thead th {\n",
       "        text-align: right;\n",
       "    }\n",
       "</style>\n",
       "<table border=\"1\" class=\"dataframe\">\n",
       "  <thead>\n",
       "    <tr style=\"text-align: right;\">\n",
       "      <th></th>\n",
       "      <th>Country Name</th>\n",
       "      <th>y1970</th>\n",
       "      <th>y1971</th>\n",
       "      <th>y1972</th>\n",
       "      <th>y1973</th>\n",
       "      <th>y1974</th>\n",
       "      <th>y1975</th>\n",
       "      <th>y1976</th>\n",
       "      <th>y1977</th>\n",
       "      <th>y1978</th>\n",
       "      <th>...</th>\n",
       "      <th>y2012</th>\n",
       "      <th>y2013</th>\n",
       "      <th>y2014</th>\n",
       "      <th>y2015</th>\n",
       "      <th>y2016</th>\n",
       "      <th>y2017</th>\n",
       "      <th>y2018</th>\n",
       "      <th>y2019</th>\n",
       "      <th>y2020</th>\n",
       "      <th>y2021</th>\n",
       "    </tr>\n",
       "  </thead>\n",
       "  <tbody>\n",
       "    <tr>\n",
       "      <th>0</th>\n",
       "      <td>Aruba</td>\n",
       "      <td>NaN</td>\n",
       "      <td>NaN</td>\n",
       "      <td>NaN</td>\n",
       "      <td>NaN</td>\n",
       "      <td>NaN</td>\n",
       "      <td>NaN</td>\n",
       "      <td>NaN</td>\n",
       "      <td>NaN</td>\n",
       "      <td>NaN</td>\n",
       "      <td>...</td>\n",
       "      <td>NaN</td>\n",
       "      <td>NaN</td>\n",
       "      <td>NaN</td>\n",
       "      <td>NaN</td>\n",
       "      <td>NaN</td>\n",
       "      <td>2.235020e+05</td>\n",
       "      <td>2.742800e+05</td>\n",
       "      <td>NaN</td>\n",
       "      <td>NaN</td>\n",
       "      <td>NaN</td>\n",
       "    </tr>\n",
       "    <tr>\n",
       "      <th>1</th>\n",
       "      <td>Africa Eastern and Southern</td>\n",
       "      <td>3418300.0</td>\n",
       "      <td>3775300.0</td>\n",
       "      <td>4074500.0</td>\n",
       "      <td>4808000.0</td>\n",
       "      <td>5126100.0</td>\n",
       "      <td>5333100.0</td>\n",
       "      <td>6040400.0</td>\n",
       "      <td>5798900.0</td>\n",
       "      <td>6195600.0</td>\n",
       "      <td>...</td>\n",
       "      <td>3.583868e+07</td>\n",
       "      <td>3.511246e+07</td>\n",
       "      <td>3.635076e+07</td>\n",
       "      <td>39154692.0</td>\n",
       "      <td>41553429.0</td>\n",
       "      <td>4.542381e+07</td>\n",
       "      <td>5.261396e+07</td>\n",
       "      <td>5.485142e+07</td>\n",
       "      <td>1.916604e+07</td>\n",
       "      <td>2.405759e+07</td>\n",
       "    </tr>\n",
       "    <tr>\n",
       "      <th>2</th>\n",
       "      <td>Afghanistan</td>\n",
       "      <td>84700.0</td>\n",
       "      <td>97400.0</td>\n",
       "      <td>104900.0</td>\n",
       "      <td>96600.0</td>\n",
       "      <td>96100.0</td>\n",
       "      <td>99000.0</td>\n",
       "      <td>101700.0</td>\n",
       "      <td>111200.0</td>\n",
       "      <td>100400.0</td>\n",
       "      <td>...</td>\n",
       "      <td>1.737962e+06</td>\n",
       "      <td>2.044188e+06</td>\n",
       "      <td>2.209428e+06</td>\n",
       "      <td>1929907.0</td>\n",
       "      <td>1917924.0</td>\n",
       "      <td>1.647425e+06</td>\n",
       "      <td>1.125367e+06</td>\n",
       "      <td>1.066747e+06</td>\n",
       "      <td>4.490410e+05</td>\n",
       "      <td>2.932130e+05</td>\n",
       "    </tr>\n",
       "    <tr>\n",
       "      <th>3</th>\n",
       "      <td>Africa Western and Central</td>\n",
       "      <td>1167000.0</td>\n",
       "      <td>1238100.0</td>\n",
       "      <td>1285700.0</td>\n",
       "      <td>1453300.0</td>\n",
       "      <td>1685700.0</td>\n",
       "      <td>1987500.0</td>\n",
       "      <td>2540000.0</td>\n",
       "      <td>2962100.0</td>\n",
       "      <td>3543900.0</td>\n",
       "      <td>...</td>\n",
       "      <td>9.570162e+06</td>\n",
       "      <td>8.677884e+06</td>\n",
       "      <td>8.030237e+06</td>\n",
       "      <td>8696300.0</td>\n",
       "      <td>8129874.0</td>\n",
       "      <td>8.837017e+06</td>\n",
       "      <td>1.233777e+07</td>\n",
       "      <td>1.138491e+07</td>\n",
       "      <td>5.328945e+06</td>\n",
       "      <td>7.425487e+06</td>\n",
       "    </tr>\n",
       "    <tr>\n",
       "      <th>4</th>\n",
       "      <td>Angola</td>\n",
       "      <td>NaN</td>\n",
       "      <td>NaN</td>\n",
       "      <td>NaN</td>\n",
       "      <td>NaN</td>\n",
       "      <td>NaN</td>\n",
       "      <td>NaN</td>\n",
       "      <td>155400.0</td>\n",
       "      <td>282700.0</td>\n",
       "      <td>308000.0</td>\n",
       "      <td>...</td>\n",
       "      <td>1.132424e+06</td>\n",
       "      <td>1.321872e+06</td>\n",
       "      <td>1.409952e+06</td>\n",
       "      <td>1244491.0</td>\n",
       "      <td>1482546.0</td>\n",
       "      <td>1.375523e+06</td>\n",
       "      <td>1.516628e+06</td>\n",
       "      <td>1.436959e+06</td>\n",
       "      <td>3.566950e+05</td>\n",
       "      <td>3.114880e+05</td>\n",
       "    </tr>\n",
       "    <tr>\n",
       "      <th>5</th>\n",
       "      <td>Albania</td>\n",
       "      <td>NaN</td>\n",
       "      <td>NaN</td>\n",
       "      <td>NaN</td>\n",
       "      <td>NaN</td>\n",
       "      <td>NaN</td>\n",
       "      <td>NaN</td>\n",
       "      <td>NaN</td>\n",
       "      <td>NaN</td>\n",
       "      <td>NaN</td>\n",
       "      <td>...</td>\n",
       "      <td>8.143397e+05</td>\n",
       "      <td>8.658480e+05</td>\n",
       "      <td>1.516320e+05</td>\n",
       "      <td>NaN</td>\n",
       "      <td>26634.0</td>\n",
       "      <td>2.040900e+05</td>\n",
       "      <td>3.031370e+05</td>\n",
       "      <td>3.077410e+05</td>\n",
       "      <td>1.247140e+05</td>\n",
       "      <td>1.932590e+05</td>\n",
       "    </tr>\n",
       "    <tr>\n",
       "      <th>7</th>\n",
       "      <td>Arab World</td>\n",
       "      <td>4209300.0</td>\n",
       "      <td>4737000.0</td>\n",
       "      <td>5625600.0</td>\n",
       "      <td>6569400.0</td>\n",
       "      <td>8227100.0</td>\n",
       "      <td>10178000.0</td>\n",
       "      <td>13313000.0</td>\n",
       "      <td>16062400.0</td>\n",
       "      <td>18669700.0</td>\n",
       "      <td>...</td>\n",
       "      <td>1.520142e+08</td>\n",
       "      <td>1.662093e+08</td>\n",
       "      <td>1.816273e+08</td>\n",
       "      <td>195957046.0</td>\n",
       "      <td>214318723.0</td>\n",
       "      <td>2.234962e+08</td>\n",
       "      <td>2.326702e+08</td>\n",
       "      <td>2.462847e+08</td>\n",
       "      <td>7.820312e+07</td>\n",
       "      <td>1.008930e+08</td>\n",
       "    </tr>\n",
       "    <tr>\n",
       "      <th>8</th>\n",
       "      <td>United Arab Emirates</td>\n",
       "      <td>NaN</td>\n",
       "      <td>NaN</td>\n",
       "      <td>NaN</td>\n",
       "      <td>NaN</td>\n",
       "      <td>127500.0</td>\n",
       "      <td>173000.0</td>\n",
       "      <td>240100.0</td>\n",
       "      <td>299800.0</td>\n",
       "      <td>374500.0</td>\n",
       "      <td>...</td>\n",
       "      <td>5.994877e+07</td>\n",
       "      <td>6.815186e+07</td>\n",
       "      <td>7.560820e+07</td>\n",
       "      <td>84343562.0</td>\n",
       "      <td>91763598.0</td>\n",
       "      <td>9.530620e+07</td>\n",
       "      <td>9.575834e+07</td>\n",
       "      <td>9.399521e+07</td>\n",
       "      <td>2.611690e+07</td>\n",
       "      <td>2.842262e+07</td>\n",
       "    </tr>\n",
       "    <tr>\n",
       "      <th>9</th>\n",
       "      <td>Argentina</td>\n",
       "      <td>2332000.0</td>\n",
       "      <td>2218600.0</td>\n",
       "      <td>2358500.0</td>\n",
       "      <td>2312700.0</td>\n",
       "      <td>2943500.0</td>\n",
       "      <td>3299200.0</td>\n",
       "      <td>3293600.0</td>\n",
       "      <td>3884100.0</td>\n",
       "      <td>3946700.0</td>\n",
       "      <td>...</td>\n",
       "      <td>9.375670e+06</td>\n",
       "      <td>1.195128e+07</td>\n",
       "      <td>1.212191e+07</td>\n",
       "      <td>14245183.0</td>\n",
       "      <td>15076354.0</td>\n",
       "      <td>1.674927e+07</td>\n",
       "      <td>1.808455e+07</td>\n",
       "      <td>1.946138e+07</td>\n",
       "      <td>3.680874e+06</td>\n",
       "      <td>6.708097e+06</td>\n",
       "    </tr>\n",
       "    <tr>\n",
       "      <th>10</th>\n",
       "      <td>Armenia</td>\n",
       "      <td>NaN</td>\n",
       "      <td>NaN</td>\n",
       "      <td>NaN</td>\n",
       "      <td>NaN</td>\n",
       "      <td>NaN</td>\n",
       "      <td>NaN</td>\n",
       "      <td>NaN</td>\n",
       "      <td>NaN</td>\n",
       "      <td>NaN</td>\n",
       "      <td>...</td>\n",
       "      <td>3.647330e+05</td>\n",
       "      <td>4.500000e+04</td>\n",
       "      <td>0.000000e+00</td>\n",
       "      <td>NaN</td>\n",
       "      <td>NaN</td>\n",
       "      <td>NaN</td>\n",
       "      <td>5.325900e+04</td>\n",
       "      <td>1.936680e+05</td>\n",
       "      <td>5.494000e+04</td>\n",
       "      <td>1.792000e+05</td>\n",
       "    </tr>\n",
       "  </tbody>\n",
       "</table>\n",
       "<p>10 rows × 53 columns</p>\n",
       "</div>"
      ],
      "text/plain": [
       "                   Country Name      y1970      y1971      y1972      y1973  \\\n",
       "0                         Aruba        NaN        NaN        NaN        NaN   \n",
       "1   Africa Eastern and Southern  3418300.0  3775300.0  4074500.0  4808000.0   \n",
       "2                   Afghanistan    84700.0    97400.0   104900.0    96600.0   \n",
       "3    Africa Western and Central  1167000.0  1238100.0  1285700.0  1453300.0   \n",
       "4                        Angola        NaN        NaN        NaN        NaN   \n",
       "5                       Albania        NaN        NaN        NaN        NaN   \n",
       "7                    Arab World  4209300.0  4737000.0  5625600.0  6569400.0   \n",
       "8          United Arab Emirates        NaN        NaN        NaN        NaN   \n",
       "9                     Argentina  2332000.0  2218600.0  2358500.0  2312700.0   \n",
       "10                      Armenia        NaN        NaN        NaN        NaN   \n",
       "\n",
       "        y1974       y1975       y1976       y1977       y1978  ...  \\\n",
       "0         NaN         NaN         NaN         NaN         NaN  ...   \n",
       "1   5126100.0   5333100.0   6040400.0   5798900.0   6195600.0  ...   \n",
       "2     96100.0     99000.0    101700.0    111200.0    100400.0  ...   \n",
       "3   1685700.0   1987500.0   2540000.0   2962100.0   3543900.0  ...   \n",
       "4         NaN         NaN    155400.0    282700.0    308000.0  ...   \n",
       "5         NaN         NaN         NaN         NaN         NaN  ...   \n",
       "7   8227100.0  10178000.0  13313000.0  16062400.0  18669700.0  ...   \n",
       "8    127500.0    173000.0    240100.0    299800.0    374500.0  ...   \n",
       "9   2943500.0   3299200.0   3293600.0   3884100.0   3946700.0  ...   \n",
       "10        NaN         NaN         NaN         NaN         NaN  ...   \n",
       "\n",
       "           y2012         y2013         y2014        y2015        y2016  \\\n",
       "0            NaN           NaN           NaN          NaN          NaN   \n",
       "1   3.583868e+07  3.511246e+07  3.635076e+07   39154692.0   41553429.0   \n",
       "2   1.737962e+06  2.044188e+06  2.209428e+06    1929907.0    1917924.0   \n",
       "3   9.570162e+06  8.677884e+06  8.030237e+06    8696300.0    8129874.0   \n",
       "4   1.132424e+06  1.321872e+06  1.409952e+06    1244491.0    1482546.0   \n",
       "5   8.143397e+05  8.658480e+05  1.516320e+05          NaN      26634.0   \n",
       "7   1.520142e+08  1.662093e+08  1.816273e+08  195957046.0  214318723.0   \n",
       "8   5.994877e+07  6.815186e+07  7.560820e+07   84343562.0   91763598.0   \n",
       "9   9.375670e+06  1.195128e+07  1.212191e+07   14245183.0   15076354.0   \n",
       "10  3.647330e+05  4.500000e+04  0.000000e+00          NaN          NaN   \n",
       "\n",
       "           y2017         y2018         y2019         y2020         y2021  \n",
       "0   2.235020e+05  2.742800e+05           NaN           NaN           NaN  \n",
       "1   4.542381e+07  5.261396e+07  5.485142e+07  1.916604e+07  2.405759e+07  \n",
       "2   1.647425e+06  1.125367e+06  1.066747e+06  4.490410e+05  2.932130e+05  \n",
       "3   8.837017e+06  1.233777e+07  1.138491e+07  5.328945e+06  7.425487e+06  \n",
       "4   1.375523e+06  1.516628e+06  1.436959e+06  3.566950e+05  3.114880e+05  \n",
       "5   2.040900e+05  3.031370e+05  3.077410e+05  1.247140e+05  1.932590e+05  \n",
       "7   2.234962e+08  2.326702e+08  2.462847e+08  7.820312e+07  1.008930e+08  \n",
       "8   9.530620e+07  9.575834e+07  9.399521e+07  2.611690e+07  2.842262e+07  \n",
       "9   1.674927e+07  1.808455e+07  1.946138e+07  3.680874e+06  6.708097e+06  \n",
       "10           NaN  5.325900e+04  1.936680e+05  5.494000e+04  1.792000e+05  \n",
       "\n",
       "[10 rows x 53 columns]"
      ]
     },
     "execution_count": 37,
     "metadata": {},
     "output_type": "execute_result"
    }
   ],
   "source": [
    "# Create a dictionary to rename the columns\n",
    "col_dict = {}\n",
    "for i in range(1970, 2021+1): \n",
    "    col_dict[str(i)] = f'y{i}'\n",
    "\n",
    "# Rename the columns \n",
    "col_dict = {str(i) : f'y{i}' for i in range(1970,2021+1)}\n",
    "col_dict\n",
    "\n",
    "airt.rename(columns = col_dict, inplace=True)\n",
    "airt.head(10)"
   ]
  },
  {
   "cell_type": "markdown",
   "metadata": {},
   "source": [
    "## Explore the data set"
   ]
  },
  {
   "cell_type": "markdown",
   "metadata": {},
   "source": [
    "In order to **explore the raw data**, we make two **interactive plots** to show the development in the number of air traffic passenger by year and by country. The first chart shows the 10 countries with the highest number of passengers in a given year. It is possible to change the year in the dropdown list. This figure only shows individual countries, as we have excluded a series of categories. These categories can be seen below."
   ]
  },
  {
   "cell_type": "code",
   "execution_count": 38,
   "metadata": {},
   "outputs": [
    {
     "name": "stdout",
     "output_type": "stream",
     "text": [
      "Excluded entries: ['World', 'EU', 'High income', 'OECD members', 'North America', 'Europe & Central Asia', 'IDA & IBRD total', 'Low & middle income', 'IBRD only', 'Middle income', 'Upper middle income', 'Late-demographic dividend', 'East Asia & Pacific', 'East Asia & Pacific (IDA & IBRD countries)', 'East Asia & Pacific (excluding high income)', 'Early-demographic dividend', 'European Union', 'Euro area', 'Arab World', 'South Asia', 'IDA total', 'Africa Eastern and Southern', 'Africa Western and Central', 'United Arab Emirates', 'Antigua and Barbuda', 'Bosnia and Herzegovina', 'Central African Republic', 'Central Europe and the Baltics', 'Caribbean small states', 'East Asia & Pacific (excluding high income)', 'Early-demographic dividend', 'East Asia & Pacific', 'Europe & Central Asia (excluding high income)', 'Europe & Central Asia', 'Fragile and conflict affected situations', 'Hong Kong SAR, China', 'Heavily indebted poor countries (HIPC)', 'Latin America & Caribbean (excluding high income)', 'Latin America & Caribbean', 'Least developed countries: UN classification', 'Lower middle income', 'Low & middle income', 'Late-demographic dividend', 'Middle East & North Africa', 'Middle East & North Africa (excluding high income)', 'Pre-demographic dividend', \"Korea, Dem. People's Rep.\", 'Pacific island small states', 'Post-demographic dividend', 'Sub-Saharan Africa (excluding high income)', 'Sao Tome and Principe', 'Syrian Arab Republic', 'East Asia & Pacific (IDA & IBRD countries)', 'Europe & Central Asia (IDA & IBRD countries)', 'Latin America & the Caribbean (IDA & IBRD countries)', 'Middle East & North Africa (IDA & IBRD countries)', 'South Asia (IDA & IBRD)', 'Sub-Saharan Africa (IDA & IBRD countries)', 'Trinidad and Tobago', 'Upper middle income']\n"
     ]
    },
    {
     "data": {
      "application/vnd.jupyter.widget-view+json": {
       "model_id": "6b9b62a335694595b37890df74086747",
       "version_major": 2,
       "version_minor": 0
      },
      "text/plain": [
       "interactive(children=(Dropdown(description='Select Year:', index=51, options=('y1970', 'y1971', 'y1972', 'y197…"
      ]
     },
     "metadata": {},
     "output_type": "display_data"
    }
   ],
   "source": [
    "from dataproject import display_air_traffic\n",
    "\n",
    "display_air_traffic(airt)"
   ]
  },
  {
   "cell_type": "markdown",
   "metadata": {},
   "source": [
    "**Conclusion to the chart:** We observe that the United States ranks as the top country for air traffic passengers. However, in the last 10 years, China has significantly increased its market share."
   ]
  },
  {
   "cell_type": "markdown",
   "metadata": {},
   "source": [
    "**The second interactive plot** (see below) shows the development in the number of air traffic passengers from 1970-2021 for each country or category, one at a time. You access the plot for a specific country, region or category by filtering in the dropdown menu. This gives an insight in the growth in air traffic passengers in the periode 1970-2021. \n",
    "\n",
    "In 2020 we see a significant drop in number of passengers accross all regions and by all categories. This highlights the effects of the Covid-19 pandemic and lockdowns."
   ]
  },
  {
   "cell_type": "code",
   "execution_count": 39,
   "metadata": {},
   "outputs": [
    {
     "data": {
      "application/vnd.jupyter.widget-view+json": {
       "model_id": "24c07526788942cd842e92edbc59c7d9",
       "version_major": 2,
       "version_minor": 0
      },
      "text/plain": [
       "interactive(children=(Dropdown(description='Country:', index=232, options=('Aruba', 'Africa Eastern and Southe…"
      ]
     },
     "metadata": {},
     "output_type": "display_data"
    }
   ],
   "source": [
    "from dataproject import display_air_traffic_interactive\n",
    "\n",
    "display_air_traffic_interactive(airt)"
   ]
  },
  {
   "cell_type": "markdown",
   "metadata": {},
   "source": [
    "# Analysis"
   ]
  },
  {
   "cell_type": "markdown",
   "metadata": {},
   "source": [
    "To get a quick overview of the data, we show some **summary statistics** on a meaningful aggregation. "
   ]
  },
  {
   "cell_type": "markdown",
   "metadata": {},
   "source": [
    "**Underneath** we generate a plot based on the data covering all countries. Using the variable \"World\" we calculate and display the annual growth rates for the period 1970-2021 as well as the actual values to summarize the development in the number of air traffic passengers worldwide. Additionaly, the plot contains a 5 year forecast of the number of passengers, which is determined based on an ARIMA(1,1)-model."
   ]
  },
  {
   "cell_type": "code",
   "execution_count": 40,
   "metadata": {},
   "outputs": [
    {
     "name": "stderr",
     "output_type": "stream",
     "text": [
      "/Users/gustavegeskov/anaconda3/lib/python3.11/site-packages/statsmodels/tsa/base/tsa_model.py:473: ValueWarning: An unsupported index was provided and will be ignored when e.g. forecasting.\n",
      "  self._init_dates(dates, freq)\n",
      "/Users/gustavegeskov/anaconda3/lib/python3.11/site-packages/statsmodels/tsa/base/tsa_model.py:473: ValueWarning: An unsupported index was provided and will be ignored when e.g. forecasting.\n",
      "  self._init_dates(dates, freq)\n",
      "/Users/gustavegeskov/anaconda3/lib/python3.11/site-packages/statsmodels/tsa/base/tsa_model.py:473: ValueWarning: An unsupported index was provided and will be ignored when e.g. forecasting.\n",
      "  self._init_dates(dates, freq)\n",
      "/Users/gustavegeskov/anaconda3/lib/python3.11/site-packages/statsmodels/tsa/base/tsa_model.py:836: ValueWarning: No supported index is available. Prediction results will be given with an integer index beginning at `start`.\n",
      "  return get_prediction_index(\n",
      "/Users/gustavegeskov/anaconda3/lib/python3.11/site-packages/statsmodels/tsa/base/tsa_model.py:836: FutureWarning: No supported index is available. In the next version, calling this method in a model without a supported index will result in an exception.\n",
      "  return get_prediction_index(\n"
     ]
    },
    {
     "data": {
      "image/png": "[encoded data removed]",
      "text/plain": [
       "<Figure size 1400x700 with 2 Axes>"
      ]
     },
     "metadata": {},
     "output_type": "display_data"
    }
   ],
   "source": [
    "from dataproject import display_air_traffic_summarize\n",
    "\n",
    "display_air_traffic_summarize(airt)"
   ]
  },
  {
   "cell_type": "markdown",
   "metadata": {},
   "source": [
    "As seen in the plot above, the number of air passengers worldwide has been growing steadily in from 1970 until and including 2019. The annual growth rate has been positive for this entire period. We clearly see the effects of the pandemic causing a major drop in flight traffic resulting in a drop of around 60% in the number of passengers in 2020. Our forecast for the period 2022-2026 shows only a minor increase in the number of passengers. This forecast clearly does not account for the effects of the pandemic and is likely to be inaccurate. We would expect the number of passengers to return to the level as seen before COVID-19 within the first years of the forecasting period."
   ]
  },
  {
   "cell_type": "code",
   "execution_count": 41,
   "metadata": {},
   "outputs": [
    {
     "data": {
      "image/png": "[encoded data removed]",
      "text/plain": [
       "<Figure size 400x400 with 1 Axes>"
      ]
     },
     "metadata": {},
     "output_type": "display_data"
    }
   ],
   "source": [
    "from dataproject import pie_chart\n",
    "\n",
    "pie_chart(airt)"
   ]
  },
  {
   "cell_type": "markdown",
   "metadata": {},
   "source": [
    "To visualize how the air traffic passengers are distrubuted accros the globe, we display a world map as a heat map by showing the intensity of passengers by country:"
   ]
  },
  {
   "cell_type": "code",
   "execution_count": 42,
   "metadata": {},
   "outputs": [
    {
     "name": "stderr",
     "output_type": "stream",
     "text": [
      "/Users/gustavegeskov/Desktop/projects-2024-peterjakobgustav/dataproject/dataproject.py:189: FutureWarning: The geopandas.dataset module is deprecated and will be removed in GeoPandas 1.0. You can get the original 'naturalearth_lowres' data from https://www.naturalearthdata.com/downloads/110m-cultural-vectors/.\n",
      "  world = gpd.read_file(gpd.datasets.get_path('naturalearth_lowres'))\n"
     ]
    },
    {
     "data": {
      "application/vnd.jupyter.widget-view+json": {
       "model_id": "2e2e4b4f50684405bd4d5d7df034f3a2",
       "version_major": 2,
       "version_minor": 0
      },
      "text/plain": [
       "interactive(children=(Dropdown(description='Year:', index=51, options=('1970', '1971', '1972', '1973', '1974',…"
      ]
     },
     "metadata": {},
     "output_type": "display_data"
    }
   ],
   "source": [
    "from dataproject import plot_heatmap_interactive\n",
    "\n",
    "plot_heatmap_interactive()\n"
   ]
  },
  {
   "cell_type": "markdown",
   "metadata": {},
   "source": [
    "# Conclusion"
   ]
  },
  {
   "cell_type": "markdown",
   "metadata": {},
   "source": [
    "This data project has visualised the development in air traffic passengers from 1970-2021. The analysis highlights the significant impact of the COVID-19 pandemic on global air traffic, with a marked decline in passenger numbers during 2020. Despite forecasts predicting only a modest recovery, historical resilience in air travel suggests a potential return to pre-pandemic levels. The interactive visualizations developed herein offer insights into the temporal and regional variations in air traffic."
   ]
  }
 ],
 "metadata": {
  "kernelspec": {
   "display_name": "base",
   "language": "python",
   "name": "python3"
  },
  "language_info": {
   "codemirror_mode": {
    "name": "ipython",
    "version": 3
   },
   "file_extension": ".py",
   "mimetype": "text/x-python",
   "name": "python",
   "nbconvert_exporter": "python",
   "pygments_lexer": "ipython3",
   "version": "3.11.7"
  },
  "toc-autonumbering": true,
  "vscode": {
   "interpreter": {
    "hash": "47ef90cdf3004d3f859f1fb202523c65c07ba7c22eefd261b181f4744e2d0403"
   }
  }
 },
 "nbformat": 4,
 "nbformat_minor": 4
}
