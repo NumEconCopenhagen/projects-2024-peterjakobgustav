{
 "cells": [
  {
   "cell_type": "markdown",
   "metadata": {},
   "source": [
    "# YOUR PROJECT TITLE"
   ]
  },
  {
   "attachments": {},
   "cell_type": "markdown",
   "metadata": {},
   "source": [
    "> **Note the following:** \n",
    "> 1. This is *not* meant to be an example of an actual **model analysis project**, just an example of how to structure such a project.\n",
    "> 1. Remember the general advice on structuring and commenting your code\n",
    "> 1. The `modelproject.py` file includes a function which could be used multiple times in this notebook."
   ]
  },
  {
   "cell_type": "markdown",
   "metadata": {},
   "source": [
    "Imports and set magics:"
   ]
  },
  {
   "cell_type": "code",
   "execution_count": 2,
   "metadata": {},
   "outputs": [],
   "source": [
    "import numpy as np\n",
    "from scipy import optimize\n",
    "import sympy as sm\n",
    "\n",
    "# autoreload modules when code is run\n",
    "%load_ext autoreload\n",
    "%autoreload 2\n",
    "\n",
    "# local modules\n",
    "import modelproject"
   ]
  },
  {
   "cell_type": "markdown",
   "metadata": {},
   "source": [
    "# Model description"
   ]
  },
  {
   "cell_type": "markdown",
   "metadata": {},
   "source": [
    "**Write out the model in equations here.** \n",
    "\n",
    "Make sure you explain well the purpose of the model and comment so that other students who may not have seen it before can follow.  "
   ]
  },
  {
   "cell_type": "markdown",
   "metadata": {},
   "source": [
    "## Analytical solution"
   ]
  },
  {
   "cell_type": "markdown",
   "metadata": {},
   "source": [
    "If your model allows for an analytical solution, you should provide here.\n",
    "\n",
    "You may use Sympy for this. Then you can characterize the solution as a function of a parameter of the model.\n",
    "\n",
    "To characterize the solution, first derive a steady state equation as a function of a parameter using Sympy.solve and then turn it into a python function by Sympy.lambdify. See the lecture notes for details. "
   ]
  },
  {
   "cell_type": "markdown",
   "metadata": {},
   "source": [
    "## Numerical solution"
   ]
  },
  {
   "cell_type": "markdown",
   "metadata": {},
   "source": [
    "You can always solve a model numerically. \n",
    "\n",
    "Define first the set of parameters you need. \n",
    "\n",
    "Then choose one of the optimization algorithms that we have gone through in the lectures based on what you think is most fitting for your model.\n",
    "\n",
    "Are there any problems with convergence? Does the model converge for all starting values? Make a lot of testing to figure these things out. "
   ]
  },
  {
   "cell_type": "markdown",
   "metadata": {},
   "source": [
    "# Further analysis"
   ]
  },
  {
   "cell_type": "markdown",
   "metadata": {},
   "source": [
    "Make detailed vizualizations of how your model changes with parameter values. \n",
    "\n",
    "Try to make an extension of the model. "
   ]
  },
  {
   "cell_type": "markdown",
   "metadata": {},
   "source": [
    "# Conclusion"
   ]
  },
  {
   "cell_type": "markdown",
   "metadata": {},
   "source": [
    "### Part (a)\n",
    "We need to show that the interest rate \\( r_t \\) is independent of the capital stock and that the wage rate \\( w_t = (1-\\alpha) A K_t \\). This involves solving the model with competitive factor markets.\n"
   ]
  },
  {
   "cell_type": "code",
   "execution_count": 1,
   "metadata": {},
   "outputs": [
    {
     "name": "stdout",
     "output_type": "stream",
     "text": [
      "The wage rate w_t is 104.99999999999999\n"
     ]
    }
   ],
   "source": [
    "def compute_wages(A, K_t, alpha):\n",
    "    \"\"\" Compute the wage rate given the production parameters and capital stock \"\"\"\n",
    "    return (1 - alpha) * A * K_t\n",
    "\n",
    "# Example usage\n",
    "A = 1.5  # Total factor productivity\n",
    "alpha = 0.3  # Capital share of income\n",
    "K_t = 100  # Capital stock at time t\n",
    "\n",
    "w_t = compute_wages(A, K_t, alpha)\n",
    "print(f\"The wage rate w_t is {w_t}\")\n"
   ]
  },
  {
   "cell_type": "markdown",
   "metadata": {},
   "source": [
    "### Part (b)\n",
    "We need to find the saving and capital accumulation on the balanced growth path.\n"
   ]
  },
  {
   "cell_type": "code",
   "execution_count": 3,
   "metadata": {},
   "outputs": [
    {
     "name": "stdout",
     "output_type": "stream",
     "text": [
      "Capital in the next period: 10.5, Utility: 96.73380649430528\n"
     ]
    }
   ],
   "source": [
    "def compute_balanced_growth_path(A, alpha, beta, tau, epsilon, wage):\n",
    "    \"\"\" Compute saving and capital accumulation in the balanced growth path \"\"\"\n",
    "    c1 = wage * (1 - tau)  # Consumption when young\n",
    "    saving = wage * tau  # Saving is the contribution to the social security system\n",
    "    k_next = saving  # In a steady state, savings today are the capital for tomorrow\n",
    "    \n",
    "    # Utility calculation (using log for utility of future consumption for simplicity)\n",
    "    utility = c1 + beta * np.log(saving)\n",
    "    return k_next, utility\n",
    "\n",
    "# Example usage\n",
    "tau = 0.1  # Social security tax rate\n",
    "beta = 0.95  # Discount factor\n",
    "wage = w_t  # From part (a)\n",
    "\n",
    "k_next, utility = compute_balanced_growth_path(A, alpha, beta, tau, epsilon=0, wage=wage)\n",
    "print(f\"Capital in the next period: {k_next}, Utility: {utility}\")\n"
   ]
  },
  {
   "cell_type": "markdown",
   "metadata": {},
   "source": [
    "\n",
    "### Part (c)\n",
    "We'll evaluate the effects of reducing the social security system in the partial equilibrium framework when \\( \\gamma = 0 \\).\n"
   ]
  },
  {
   "cell_type": "code",
   "execution_count": 4,
   "metadata": {},
   "outputs": [
    {
     "name": "stdout",
     "output_type": "stream",
     "text": [
      "Savings: 96.59999999999998, Capital Accumulation: 96.59999999999998, Current Account Balance: -4.2\n"
     ]
    }
   ],
   "source": [
    "def partial_equilibrium_effects(A, alpha, tau, epsilon, theta, w_t0, beta, gamma=0):\n",
    "    \"\"\" Compute the effects of social security reform on saving and capital \"\"\"\n",
    "    benefits_old = (1 - epsilon) * tau * w_t0\n",
    "    contribution_young = gamma * tau * w_t0 * (1 - epsilon)\n",
    "    debt_issued = (1 - gamma) * tau * w_t0 * (1 - epsilon)\n",
    "    foreign_debt = debt_issued * theta\n",
    "    \n",
    "    # Assuming constant wages and interest rate for partial equilibrium\n",
    "    savings = w_t0 - contribution_young - benefits_old\n",
    "    capital_accumulation = savings  # Simplified model assumption\n",
    "    current_account_balance = foreign_debt - debt_issued\n",
    "    \n",
    "    # Political support and welfare analysis not implemented yet\n",
    "    \n",
    "    return savings, capital_accumulation, current_account_balance\n",
    "\n",
    "# Example usage\n",
    "w_t0 = w_t  # Assume current wage from part (a)\n",
    "theta = 0.5  # Fraction of debt bought by foreigners\n",
    "\n",
    "savings, capital_accumulation, current_account_balance = partial_equilibrium_effects(\n",
    "    A, alpha, tau, epsilon=0.2, theta=theta, w_t0=w_t0, beta=beta, gamma=0\n",
    ")\n",
    "print(f\"Savings: {savings}, Capital Accumulation: {capital_accumulation}, Current Account Balance: {current_account_balance}\")\n"
   ]
  },
  {
   "cell_type": "markdown",
   "metadata": {},
   "source": [
    "### Part (d)\n",
    "\n",
    "In this part, we will consider a scenario where \n",
    "\\(gamma=1)\\\n",
    "γ=1, meaning no new debt is issued as the young contribute fully to the social security system despite the reduction in benefits."
   ]
  },
  {
   "cell_type": "code",
   "execution_count": 5,
   "metadata": {},
   "outputs": [
    {
     "name": "stdout",
     "output_type": "stream",
     "text": [
      "Savings: 96.59999999999998, Capital Accumulation: 96.59999999999998, Current Account Balance: 0\n"
     ]
    }
   ],
   "source": [
    "def scenario_with_full_contribution(A, alpha, tau, epsilon, w_t0, beta):\n",
    "    \"\"\" Calculate effects when young fully cover the reduced social security benefits \"\"\"\n",
    "    benefits_old = (1 - epsilon) * tau * w_t0\n",
    "    contribution_young = tau * w_t0 * (1 - epsilon)  # γ=1 implies full contribution\n",
    "    \n",
    "    # Assuming constant wages and interest rate for partial equilibrium\n",
    "    savings = w_t0 - contribution_young\n",
    "    capital_accumulation = savings  # In this simplified model\n",
    "    \n",
    "    # Assuming no new debt, foreign debt = 0, hence no changes in current account\n",
    "    current_account_balance = 0\n",
    "    \n",
    "    return savings, capital_accumulation, current_account_balance\n",
    "\n",
    "# Example usage\n",
    "w_t0 = w_t  # Assume current wage from part (a)\n",
    "\n",
    "savings, capital_accumulation, current_account_balance = scenario_with_full_contribution(\n",
    "    A, alpha, tau, epsilon=0.2, w_t0=w_t0, beta=beta\n",
    ")\n",
    "print(f\"Savings: {savings}, Capital Accumulation: {capital_accumulation}, Current Account Balance: {current_account_balance}\")\n"
   ]
  },
  {
   "cell_type": "markdown",
   "metadata": {},
   "source": []
  }
 ],
 "metadata": {
  "kernelspec": {
   "display_name": "base",
   "language": "python",
   "name": "python3"
  },
  "language_info": {
   "codemirror_mode": {
    "name": "ipython",
    "version": 3
   },
   "file_extension": ".py",
   "mimetype": "text/x-python",
   "name": "python",
   "nbconvert_exporter": "python",
   "pygments_lexer": "ipython3",
   "version": "3.11.7"
  },
  "toc-autonumbering": true,
  "vscode": {
   "interpreter": {
    "hash": "47ef90cdf3004d3f859f1fb202523c65c07ba7c22eefd261b181f4744e2d0403"
   }
  }
 },
 "nbformat": 4,
 "nbformat_minor": 4
}
