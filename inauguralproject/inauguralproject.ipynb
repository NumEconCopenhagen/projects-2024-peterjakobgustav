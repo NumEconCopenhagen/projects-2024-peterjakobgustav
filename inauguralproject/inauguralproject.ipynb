{
 "cells": [
  {
   "cell_type": "markdown",
   "metadata": {},
   "source": [
    "# Inaugural Project"
   ]
  },
  {
   "attachments": {},
   "cell_type": "markdown",
   "metadata": {},
   "source": [
    "> **Note the following:** \n",
    "> 1. This is an example of how to structure your **inaugural project**.\n",
    "> 1. Remember the general advice on structuring and commenting your code\n",
    "> 1. The `inauguralproject.py` file includes a function which can be used multiple times in this notebook."
   ]
  },
  {
   "cell_type": "markdown",
   "metadata": {},
   "source": [
    "Imports and set magics:"
   ]
  },
  {
   "cell_type": "code",
   "execution_count": 3,
   "metadata": {},
   "outputs": [
    {
     "name": "stdout",
     "output_type": "stream",
     "text": [
      "The autoreload extension is already loaded. To reload it, use:\n",
      "  %reload_ext autoreload\n"
     ]
    }
   ],
   "source": [
    "import numpy as np\n",
    "import matplotlib.pyplot as plt\n",
    "\n",
    "# autoreload modules when code is run. Otherwise, python will not see recent changes. \n",
    "%load_ext autoreload\n",
    "%autoreload 2\n",
    "\n",
    "# Import your own code\n",
    "import inauguralproject"
   ]
  },
  {
   "cell_type": "markdown",
   "metadata": {},
   "source": [
    "# Question 1"
   ]
  },
  {
   "cell_type": "markdown",
   "metadata": {},
   "source": [
    "**Explain how you solve the model**\n",
    "\n",
    "\n",
    "The Edgeworth box in this first question represents the possible combinations of goods $x_1$ and $x_2$ that can be allocated between two consumers, represtened as Consumer $A$ and Consumer $B$. Each axis of the box represents the quantity of $x_1$ and $x_2$.\n",
    "\n",
    "In the plot each point corresponds to a combination of $x_1^A$ and $x_2^A$, representing the allocation of goods to Consumer $A$. The set of points in the plot illustrates the possible allocations that satisfy the conditions specified in the problem, which are:\n",
    "\n",
    "1. Both consumers are at least as well off as they were with their initial endowments.\n",
    "2. Consumer $B$'s utility is at least as high as with their initial endowment.\n",
    "3. The quantities of goods allocated to both consumers add up to the total endowment of each good such that\n",
    "\\begin{align*}\n",
    "\\omega_{1}^{B} & =1-\\omega_{1}^{A}\\\\\n",
    "\\omega_{2}^{B} & =1-\\omega_{2}^{A}.\n",
    "\\end{align*}\n",
    "\n",
    "\n",
    "The Edgeworth box provides a visual representation of the possible Pareto improvements relative to the initial endowments which is the egde of dotted area. Points inside the box represent allocations that are mutually beneficial to both consumers, while points on the boundary represent allocations where one consumer's utility cannot be increased without decreasing the other's utility.\n",
    "\n",
    "\n",
    "\n"
   ]
  },
  {
   "cell_type": "markdown",
   "metadata": {},
   "source": []
  },
  {
   "cell_type": "code",
   "execution_count": 13,
   "metadata": {},
   "outputs": [
    {
     "data": {
      "image/png": "[encoded data removed]",
      "text/plain": [
       "<Figure size 600x600 with 1 Axes>"
      ]
     },
     "metadata": {},
     "output_type": "display_data"
    }
   ],
   "source": [
    "# Parameter values\n",
    "alpha = 1/3  # Parameter for consumer A's utility function\n",
    "beta = 2/3   # Parameter for consumer B's utility function\n",
    "omega_A1 = 0.8  # Initial endowment of good x1 for consumer A\n",
    "omega_A2 = 0.3  # Initial endowment of good x2 for consumer A\n",
    "N = 75  # Number of divisions for creating grid of possible allocations\n",
    "        # if we wanted we could increase this value and include more combinations\n",
    "        # in our edgeworth box.\n",
    "\n",
    "# Utility functions\n",
    "def u_A(x1_A, x2_A):\n",
    "    \"\"\"\n",
    "    Utility function for consumer A.\n",
    "    Args:\n",
    "        x1_A: Quantity of good x1 allocated to consumer A.\n",
    "        x2_A: Quantity of good x2 allocated to consumer A.\n",
    "    Returns:\n",
    "        Utility value for consumer A given the allocation.\n",
    "    \"\"\"\n",
    "    return x1_A ** alpha * x2_A ** (1 - alpha)\n",
    "\n",
    "def u_B(x1_B, x2_B):\n",
    "    \"\"\"\n",
    "    Utility function for consumer B.\n",
    "    Args:\n",
    "        x1_B: Quantity of good x1 allocated to consumer B.\n",
    "        x2_B: Quantity of good x2 allocated to consumer B.\n",
    "    Returns:\n",
    "        Utility value for consumer B given the allocation.\n",
    "    \"\"\"\n",
    "    return x1_B ** beta * x2_B ** (1 - beta)\n",
    "\n",
    "# Define the set of combinations of x1_A and x2_A\n",
    "x1_A_values = np.linspace(0, 1, N+1)  # Possible values for x1_A\n",
    "x2_A_values = np.linspace(0, 1, N+1)  # Possible values for x2_A\n",
    "\n",
    "# Initialize lists to store valid combinations\n",
    "valid_x1_A = []  # List to store valid quantities of x1_A\n",
    "valid_x2_A = []  # List to store valid quantities of x2_A\n",
    "\n",
    "# Check each combination of x1_A and x2_A\n",
    "for x1_A in x1_A_values:\n",
    "    for x2_A in x2_A_values:\n",
    "        x1_B = 1 - x1_A  # Quantity of good x1 allocated to consumer B\n",
    "        x2_B = 1 - x2_A  # Quantity of good x2 allocated to consumer B\n",
    "        \n",
    "        # Check if the combination is valid according to the given conditions\n",
    "        if u_A(x1_A, x2_A) >= u_A(omega_A1, omega_A2) and \\\n",
    "           u_B(x1_B, x2_B) >= u_B(1 - omega_A1, 1 - omega_A2):\n",
    "            valid_x1_A.append(x1_A)\n",
    "            valid_x2_A.append(x2_A)\n",
    "\n",
    "# Plot the set in the Edgeworth box\n",
    "plt.figure(figsize=(6, 6))\n",
    "plt.plot(valid_x1_A, valid_x2_A, 'bo', markersize=3)  # Plotting valid allocations\n",
    "plt.xlabel('$x_1^A$')  # Labeling x-axis\n",
    "plt.ylabel('$x_2^A$')  # Labeling y-axis\n",
    "plt.title('Set in the Edgeworth box')  # Title of the plot\n",
    "plt.grid(True)  # Adding grid lines\n",
    "plt.show()  # Displaying the plot"
   ]
  },
  {
   "cell_type": "markdown",
   "metadata": {},
   "source": [
    "# Question 2"
   ]
  },
  {
   "cell_type": "markdown",
   "metadata": {},
   "source": [
    "Explain your code and procedure"
   ]
  },
  {
   "cell_type": "code",
   "execution_count": 3,
   "metadata": {},
   "outputs": [],
   "source": [
    "# code"
   ]
  },
  {
   "cell_type": "markdown",
   "metadata": {},
   "source": [
    "# Question 3"
   ]
  },
  {
   "cell_type": "markdown",
   "metadata": {},
   "source": [
    "Explain your code and procedure"
   ]
  },
  {
   "cell_type": "code",
   "execution_count": 4,
   "metadata": {},
   "outputs": [],
   "source": [
    "# code"
   ]
  },
  {
   "cell_type": "markdown",
   "metadata": {},
   "source": [
    "ADD CONCISE CONLUSION."
   ]
  }
 ],
 "metadata": {
  "kernelspec": {
   "display_name": "base",
   "language": "python",
   "name": "python3"
  },
  "language_info": {
   "codemirror_mode": {
    "name": "ipython",
    "version": 3
   },
   "file_extension": ".py",
   "mimetype": "text/x-python",
   "name": "python",
   "nbconvert_exporter": "python",
   "pygments_lexer": "ipython3",
   "version": "3.9.10"
  },
  "toc-autonumbering": true,
  "vscode": {
   "interpreter": {
    "hash": "47ef90cdf3004d3f859f1fb202523c65c07ba7c22eefd261b181f4744e2d0403"
   }
  }
 },
 "nbformat": 4,
 "nbformat_minor": 4
}
