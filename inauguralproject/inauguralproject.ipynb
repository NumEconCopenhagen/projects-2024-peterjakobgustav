{
 "cells": [
  {
   "cell_type": "markdown",
   "metadata": {},
   "source": [
    "# Inaugural Project"
   ]
  },
  {
   "attachments": {},
   "cell_type": "markdown",
   "metadata": {},
   "source": [
    "> **Note the following:** \n",
    "> 1. This is an example of how to structure your **inaugural project**.\n",
    "> 1. Remember the general advice on structuring and commenting your code\n",
    "> 1. The `inauguralproject.py` file includes a function which can be used multiple times in this notebook."
   ]
  },
  {
   "cell_type": "markdown",
   "metadata": {},
   "source": [
    "Imports and set magics:"
   ]
  },
  {
   "cell_type": "code",
   "execution_count": null,
   "metadata": {},
   "outputs": [],
   "source": [
    "import numpy as np\n",
    "import matplotlib.pyplot as plt\n",
    "from scipy.optimize import minimize\n",
    "\n",
    "\n",
    "# autoreload modules when code is run. Otherwise, python will not see recent changes. \n",
    "%load_ext autoreload\n",
    "%autoreload 2\n",
    "\n",
    "# Import class\n",
    "from inauguralproject1 import ExchangeEconomyClass\n",
    "E_class = ExchangeEconomyClass()"
   ]
  },
  {
   "cell_type": "markdown",
   "metadata": {},
   "source": [
    "# Question 1"
   ]
  },
  {
   "cell_type": "markdown",
   "metadata": {},
   "source": [
    "<u>**Explanation of the model is solved**</u>\n",
    "\n",
    "**Parameterization:** To begin we definine the parameters such as utility functions, initial endowments, and numerical values $ \\alpha $, $ \\beta $, $\\omega_1^A$, $\\omega_2^A$ and $N$.\n",
    "\n",
    "**Utility Functions:** The utility functions for both consumers are defined. These functions represent the preferences of each consumer over the two goods.\n",
    "\n",
    "**Allocation Grid:** A grid of possible allocations for the first consumer ($ x_1^A $ and $ x_2^A $) is created using `np.linspace()`. This grid represents all possible combinations of goods that can be allocated to the first consumer within the unit interval [0, 1].\n",
    "\n",
    "**Valid Combinations:** For each combination of $ x_1^A $ and $ x_2^A $ in the grid, the corresponding allocations to the second consumer ($ x_1^B $ and $ x_2^B $) are calculated. If the allocations satisfy the given conditions (both consumers are at least as well off as they were with their initial endowments), they are considered valid and added to the list of valid allocations.\n",
    "\n",
    "**Plotting:** The valid allocations are plotted in the Edgeworth box using `plt.plot()`.\n",
    "\n",
    "<u>**Explation of the Edgeworth box**</u>\n",
    "\n",
    "The Edgeworth box in this first question represents the possible combinations of goods $x_1$ and $x_2$ that can be allocated between two consumers, represtened as Consumer $A$ and Consumer $B$. Each axis of the box represents the quantity of $x_1$ and $x_2$.\n",
    "\n",
    "In the plot each point corresponds to a combination of $x_1^A$ and $x_2^A$, representing the allocation of goods to Consumer $A$. The set of points in the plot illustrates the possible allocations that satisfy the conditions specified in the problem, which are:\n",
    "\n",
    "1. Both consumers are at least as well off as they were with their initial endowments.\n",
    "2. Consumer $B$'s utility is at least as high as with their initial endowment.\n",
    "3. The quantities of goods allocated to both consumers add up to the total endowment of each good such that\n",
    "\\begin{align*}\n",
    "\\omega_{1}^{B} & =1-\\omega_{1}^{A}\\\\\n",
    "\\omega_{2}^{B} & =1-\\omega_{2}^{A}.\n",
    "\\end{align*}\n",
    "\n",
    "\n",
    "The Edgeworth box provides a visual representation of the possible Pareto improvements relative to the initial endowments which is the egde of dotted area. Points inside the box represent allocations that are mutually beneficial to both consumers, while points on the boundary represent allocations where one consumer's utility cannot be increased without decreasing the other's utility.\n",
    "\n",
    "\n",
    "\n"
   ]
  },
  {
   "cell_type": "code",
   "execution_count": null,
   "metadata": {},
   "outputs": [],
   "source": [
    "# Run function from class to find the pareto efficient allocations\n",
    "valid_x1_A, valid_x2_A = E_class.pareto_efficient_allocations()\n",
    "\n",
    "# Plot the sets in the Edgeworth box\n",
    "plt.figure(figsize=(5, 5))\n",
    "plt.plot(valid_x1_A, valid_x2_A, 'bx', markersize=4)  # Plotting valid combinations. 'b' for blue 'x' for cross\n",
    "plt.scatter(0.8, 0.3, color='red', marker='o', label='Endowment Points')\n",
    "plt.xlabel('$x_1^A$')  # Labeling x-axis\n",
    "plt.ylabel('$x_2^A$')  # Labeling y-axis\n",
    "plt.title('Sets of Pareto combinations relative to the endowment')  # Title of the plot\n",
    "plt.grid(True)  # Adding grid lines\n",
    "\n",
    "# Add a legend with the endowment points\n",
    "plt.legend(['Pareto efficient allocations', 'Initial endowment Point'])\n",
    "\n",
    "# Set x and y axis limits to the interval [0, 1]\n",
    "plt.xlim(0, 1)\n",
    "plt.ylim(0, 1)\n",
    "\n",
    "plt.show()  # Displaying the plot"
   ]
  },
  {
   "cell_type": "markdown",
   "metadata": {},
   "source": [
    "# Question 2"
   ]
  },
  {
   "cell_type": "markdown",
   "metadata": {},
   "source": [
    "\n",
    "This code calculates the errors in the market clearing conditions $ \\epsilon_1$ and $\\epsilon_2$ for a given range of $ p_1 $ values and plots them against $p_1$. The code first calculate values for the variabels $x_1^A\\ast$, $x_2^A\\ast$, $x_1^B\\ast$ and $x_2^B\\ast$ with starting point in created range of $p_1$ values. It is now possible to calculate the errors ($\\epsilon_1$ and $\\epsilon_2$). The error values are now plotted over each values of $p_1$ which is seen in the plot. The intersection as seen must be the market clearing where the error also equals zero."
   ]
  },
  {
   "cell_type": "code",
   "execution_count": null,
   "metadata": {},
   "outputs": [],
   "source": [
    "# Range of p1 values\n",
    "p1_values = np.linspace(0.5, 2.5, E_class.par.N)\n",
    "\n",
    "\n",
    "# Calculate errors for the range of p1 values\n",
    "market_clearing_errors = E_class.market_clearing_error(p1_values)\n",
    "\n",
    "# Plot errors\n",
    "plt.figure(figsize=(8, 6))\n",
    "plt.plot(p1_values, [error[0] for error in market_clearing_errors], label='$\\epsilon_1$', color='blue')\n",
    "plt.plot(p1_values, [error[1] for error in market_clearing_errors], label='$\\epsilon_2$', color='red')\n",
    "plt.xlabel('$p_1$')\n",
    "plt.ylabel('Error')\n",
    "plt.title('Market Clearing Errors')\n",
    "plt.legend()\n",
    "plt.grid(True)\n",
    "plt.show()\n",
    "\n",
    "# Show intersection of the two curves\n",
    "print('Intersection of the two curves is at p1 =', p1_values[np.argmin([np.sqrt(error[0]**2 + error[1]**2) for error in market_clearing_errors])])\n",
    "\n"
   ]
  },
  {
   "cell_type": "markdown",
   "metadata": {},
   "source": [
    "# Question 3"
   ]
  },
  {
   "cell_type": "markdown",
   "metadata": {},
   "source": [
    "To find the intersection on the above graph we will use np.isclose which is a function from NumPy that here see if the sum of x1_A_star + x1_B_star is close to 1 and the same for x2_A_star + x2_B_star. If this is true it return the price ($p_1$) where the values are close to 1. Hereby we find the market clearing price."
   ]
  },
  {
   "cell_type": "code",
   "execution_count": null,
   "metadata": {},
   "outputs": [],
   "source": [
    "# Calculate market clearing price and set as variabel name p_star\n",
    "p_star = E_class.market_clearing_price()\n",
    "\n",
    "#print p_star if found else write that p_star not found\n",
    "if p_star is not None:\n",
    "    print(\"The market clearing price is: p_1 =\", p_star)\n",
    "else:\n",
    "    print(\"No market clearing price found within the given range of p1 values.\")"
   ]
  },
  {
   "cell_type": "markdown",
   "metadata": {},
   "source": [
    "# Question 4a\n"
   ]
  },
  {
   "cell_type": "code",
   "execution_count": null,
   "metadata": {},
   "outputs": [],
   "source": [
    "P1 = np.linspace(0.5, 2.5, N)  # Define your set of discrete prices\n",
    "\n",
    "optimal_p_1, optimal_consumption_A, max_utility = E_class.max_u_A(P1)\n",
    "print(f\"Optimal price for Consumer A (discrete): {optimal_p_1:.4f}\")\n",
    "print(f\"Optimal allocation for Consumer A: x1A={optimal_consumption_A[0]:.4f}, x2A={optimal_consumption_A[1]:.4f}\")\n",
    "print(f\"Maximum utility for Consumer A: {max_utility:.4f}\")"
   ]
  },
  {
   "cell_type": "markdown",
   "metadata": {},
   "source": [
    "# Question 4b"
   ]
  },
  {
   "cell_type": "markdown",
   "metadata": {},
   "source": [
    "explain code"
   ]
  },
  {
   "cell_type": "code",
   "execution_count": null,
   "metadata": {},
   "outputs": [],
   "source": [
    "# Assuming 'model' is an instance of your ExchangeEconomyClass\n",
    "optimal_price_continuous, optimal_allocation_A_continuous, max_utility_continuous = E_class.max_u_A_cont()\n",
    "\n",
    "# Displaying the results\n",
    "print(f\"Optimal price for Consumer A (continuous): {optimal_price_continuous:.4f}\")\n",
    "print(f\"Optimal allocation for Consumer A: x1A={optimal_allocation_A_continuous[0]:.4f}, x2A={optimal_allocation_A_continuous[1]:.4f}\")\n",
    "print(f\"Maximum utility for Consumer A: {max_utility_continuous:.4f}\")"
   ]
  },
  {
   "cell_type": "markdown",
   "metadata": {},
   "source": [
    "ADD CONCISE CONLUSION."
   ]
  },
  {
   "cell_type": "markdown",
   "metadata": {},
   "source": [
    "# Question 5a."
   ]
  },
  {
   "cell_type": "markdown",
   "metadata": {},
   "source": [
    "Explanation"
   ]
  },
  {
   "cell_type": "code",
   "execution_count": null,
   "metadata": {},
   "outputs": [],
   "source": [
    "# Define the utility function for consumer A with a different name\n",
    "def calculate_u_A(x1_A, x2_A):\n",
    "    \"\"\"\n",
    "    Utility function for consumer A.\n",
    "    Args:\n",
    "        x1_A: Quantity of good x1 allocated to consumer A.\n",
    "        x2_A: Quantity of good x2 allocated to consumer A.\n",
    "    Returns:\n",
    "        Utility value for consumer A given the allocation.\n",
    "    \"\"\"\n",
    "    return x1_A ** alpha * x2_A ** (1 - alpha)\n",
    "\n",
    "# Initialize variables to store the optimal allocation and utility\n",
    "optimal_allocation = None\n",
    "max_utility = -float('inf')\n",
    "\n",
    "# Iterate through valid combinations and find the one with maximum utility\n",
    "for i in range(len(valid_x1_A)):\n",
    "    x1_A = valid_x1_A[i]\n",
    "    x2_A = valid_x2_A[i]\n",
    "    utility = calculate_u_A(x1_A, x2_A)  # Call the utility function using the new name\n",
    "    if utility > max_utility:\n",
    "        max_utility = utility\n",
    "        optimal_allocation = (x1_A, x2_A)\n",
    "\n",
    "# Print the optimal allocation and its utility\n",
    "print(\"Optimal Allocation (x1^A, x2^A):\", optimal_allocation)\n",
    "print(\"Maximum Utility:\", max_utility)\n"
   ]
  },
  {
   "cell_type": "markdown",
   "metadata": {},
   "source": [
    "# Question 5b."
   ]
  },
  {
   "cell_type": "markdown",
   "metadata": {},
   "source": [
    "Explanation"
   ]
  },
  {
   "cell_type": "code",
   "execution_count": null,
   "metadata": {},
   "outputs": [],
   "source": [
    "from scipy.optimize import minimize\n",
    "# Parameters\n",
    "alpha = 1 / 3\n",
    "beta = 2 / 3\n",
    "omega_1A = 0.8\n",
    "omega_2A = 0.3\n",
    "omega_1B = 1 - omega_1A\n",
    "omega_2B = 1 - omega_2A\n",
    "\n",
    "# Utility functions\n",
    "def uA(x1, x2):\n",
    "    return x1**alpha * x2**(1-alpha)\n",
    "\n",
    "def uB(x1, x2):\n",
    "    return x1**beta * x2**(1-beta)\n",
    "\n",
    "# Parameters and utility/demand functions remain the same as before\n",
    "\n",
    "# Initial utility levels for comparison\n",
    "initial_utility_A = uA(omega_1A, omega_2A)\n",
    "initial_utility_B = uB(omega_1B, omega_2B)\n",
    "\n",
    "# Objective function: Maximize A's utility\n",
    "def objective(x):\n",
    "    xA1, xA2 = x\n",
    "    return -uA(xA1, xA2)  # Negative because we use minimize\n",
    "\n",
    "# Constraints for Pareto improvements and total consumption\n",
    "constraints = (\n",
    "    {'type': 'ineq', 'fun': lambda x: uB(1 - x[0], 1 - x[1]) - initial_utility_B},  # uB(1-xA1, 1-xA2) >= uB(ω1B, ω2B)\n",
    ")\n",
    "\n",
    "# Initial guess (could be the initial endowments)\n",
    "x0 = [omega_1A, omega_2A]\n",
    "\n",
    "# Bounds for xA1 and xA2\n",
    "bounds = ((0, 1), (0, 1))\n",
    "\n",
    "# Perform the optimization\n",
    "result = minimize(objective, x0, bounds=bounds, constraints=constraints)\n",
    "\n",
    "if result.success:\n",
    "    optimal_xA1, optimal_xA2 = result.x\n",
    "    optimal_utility = -result.fun\n",
    "    print(f\"Optimal Allocation: xA1 = {optimal_xA1}, xA2 = {optimal_xA2}, Maximum Utility for A: {optimal_utility}\")\n",
    "else:\n",
    "    print(\"Optimization was not successful. Please check the constraints and initial guess.\")"
   ]
  },
  {
   "cell_type": "markdown",
   "metadata": {},
   "source": [
    "# Question 6a."
   ]
  },
  {
   "cell_type": "markdown",
   "metadata": {},
   "source": [
    "Explanation"
   ]
  },
  {
   "cell_type": "code",
   "execution_count": null,
   "metadata": {},
   "outputs": [],
   "source": [
    "from scipy.optimize import minimize\n",
    "# Parameters\n",
    "alpha = 1 / 3\n",
    "beta = 2 / 3\n",
    "omega_1A = 0.8\n",
    "omega_2A = 0.3\n",
    "omega_1B = 1 - omega_1A\n",
    "omega_2B = 1 - omega_2A\n",
    "\n",
    "# Utility functions\n",
    "def uA(x1, x2):\n",
    "    return x1**alpha * x2**(1-alpha)\n",
    "\n",
    "def uB(x1, x2):\n",
    "    return x1**beta * x2**(1-beta)\n",
    "\n",
    "def aggregate_u(x1, x2):\n",
    "    return uA(x1, x2) + uB(1 - x1, 1 - x2)\n",
    "\n",
    "# Parameters and utility/demand functions remain the same as before\n",
    "# Objective function: Maximize A's utility\n",
    "def objective(x):\n",
    "    xA1, xA2 = x\n",
    "    return -aggregate_u(xA1, xA2)  # Negative because we use minimize\n",
    "\n",
    "# Initial guess (could be the initial endowments)\n",
    "x0 = [omega_1A, omega_2A]\n",
    "\n",
    "# Bounds for xA1 and xA2\n",
    "bounds = ((0, 1), (0, 1))\n",
    "\n",
    "# Perform the optimization\n",
    "result = minimize(objective, x0, bounds=bounds)\n",
    "\n",
    "if result.success:\n",
    "    optimal_agg_xA1, optimal_agg_xA2 = result.x\n",
    "    optimal_agg_utility = -result.fun\n",
    "    print(f\"Optimal Allocation: xA1 = {optimal_agg_xA1}, xA2 = {optimal_agg_xA2}, Maximum Utility for A: {optimal_agg_utility}\")\n",
    "else:\n",
    "    print(\"Optimization was not successful. Please check the constraints and initial guess.\")"
   ]
  },
  {
   "cell_type": "markdown",
   "metadata": {},
   "source": [
    "# Question 6b."
   ]
  },
  {
   "cell_type": "markdown",
   "metadata": {},
   "source": [
    "Explanation"
   ]
  },
  {
   "cell_type": "code",
   "execution_count": null,
   "metadata": {},
   "outputs": [],
   "source": [
    "import matplotlib.pyplot as plt\n",
    "\n",
    "# Given points with labels, colors, and markers\n",
    "points = {\n",
    "    '4.B': {'coordinates': (0.6210, 0.6400), 'color': 'blue', 'marker': 's', 'size': 100},\n",
    "    '5.B': {'coordinates': (0.575, 0.844), 'color': 'red', 'marker': 's', 'size': 100},\n",
    "    '6.A (AGG_ALL)': {'coordinates': (0.333, 0.666), 'color': 'purple', 'marker': 's', 'size': 100}\n",
    "}\n",
    "\n",
    "# Plot the sets in the Edgeworth box\n",
    "plt.figure(figsize=(8, 8))\n",
    "plt.plot(valid_x1_A, valid_x2_A, 'bx', markersize=4)  # Plotting valid combinations. 'b' for blue 'x' for cross\n",
    "plt.scatter(0.8, 0.3, color='g', marker='o', label='Endowment Points')\n",
    "\n",
    "# Insert given points\n",
    "for label, point_info in points.items():\n",
    "    coordinates = point_info['coordinates']\n",
    "    color = point_info['color']\n",
    "    marker = point_info['marker']\n",
    "    \n",
    "    plt.scatter(coordinates[0], coordinates[1], color=color, marker=marker, label=label)\n",
    "    plt.text(coordinates[0] - 0.05, coordinates[1] + 0.02, label, fontsize=8, color='black', ha='right')\n",
    "\n",
    "plt.xlabel('$x_1^A$')  # Labeling x-axis\n",
    "plt.ylabel('$x_2^A$')  # Labeling y-axis\n",
    "plt.title('Sets of Pareto combinations relative to the endowment')  # Title of the plot\n",
    "plt.grid(True)  # Adding grid lines\n",
    "\n",
    "# Add a legend with the endowment points and given points\n",
    "plt.legend(loc='upper right')\n",
    "\n",
    "# Set x and y axis limits to the interval [0, 1]\n",
    "plt.xlim(0, 1)\n",
    "plt.ylim(0, 1)\n",
    "\n",
    "plt.show()  # Displaying the plot\n"
   ]
  },
  {
   "cell_type": "markdown",
   "metadata": {},
   "source": [
    "# Question 7."
   ]
  },
  {
   "cell_type": "markdown",
   "metadata": {},
   "source": [
    "Explanation "
   ]
  },
  {
   "cell_type": "code",
   "execution_count": null,
   "metadata": {},
   "outputs": [],
   "source": [
    "# Number of elements\n",
    "N = 50\n",
    "\n",
    "# Generate omega_1A and omega_2A\n",
    "np.random.seed(10)\n",
    "omega_1A_samples = np.random.uniform(0, 1, N)\n",
    "omega_2A_samples = np.random.uniform(0, 1, N)\n",
    "\n",
    "# Combine the samples into a set of pairs\n",
    "W = np.column_stack((omega_1A_samples, omega_2A_samples))\n",
    "\n",
    "# Display the elements in W\n",
    "print(W)\n"
   ]
  },
  {
   "cell_type": "markdown",
   "metadata": {},
   "source": [
    "# Question 8."
   ]
  },
  {
   "cell_type": "markdown",
   "metadata": {},
   "source": [
    "Explanation"
   ]
  },
  {
   "cell_type": "code",
   "execution_count": null,
   "metadata": {},
   "outputs": [],
   "source": []
  }
 ],
 "metadata": {
  "kernelspec": {
   "display_name": "base",
   "language": "python",
   "name": "python3"
  },
  "language_info": {
   "codemirror_mode": {
    "name": "ipython",
    "version": 3
   },
   "file_extension": ".py",
   "mimetype": "text/x-python",
   "name": "python",
   "nbconvert_exporter": "python",
   "pygments_lexer": "ipython3",
   "version": "3.11.4"
  },
  "toc-autonumbering": true,
  "vscode": {
   "interpreter": {
    "hash": "47ef90cdf3004d3f859f1fb202523c65c07ba7c22eefd261b181f4744e2d0403"
   }
  }
 },
 "nbformat": 4,
 "nbformat_minor": 4
}
